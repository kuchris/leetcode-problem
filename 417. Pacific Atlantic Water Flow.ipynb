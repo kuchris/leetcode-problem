{
 "cells": [
  {
   "cell_type": "code",
   "execution_count": null,
   "id": "e8947f02",
   "metadata": {},
   "outputs": [],
   "source": [
    "# 417. Pacific Atlantic Water Flow\n",
    "# https://leetcode.com/problems/pacific-atlantic-water-flow/\n",
    "\n",
    "# There is an m x n rectangular island that borders both the Pacific Ocean and Atlantic Ocean. \n",
    "# The Pacific Ocean touches the island's left and top edges, and the Atlantic Ocean touches the island's right and bottom edges.\n",
    "# The island is partitioned into a grid of square cells. \n",
    "# You are given an m x n integer matrix heights where heights[r][c] represents the height above sea level of the cell at coordinate (r, c).\n",
    "# The island receives a lot of rain, and the rain water can flow to neighboring cells directly north, south, east, and west if the neighboring cell's height is less than or equal to the current cell's height. \n",
    "# Water can flow from any cell adjacent to an ocean into the ocean.\n",
    "# Return a 2D list of grid coordinates result where result[i] = [ri, ci] denotes that rain water can flow from cell (ri, ci) to both the Pacific and Atlantic oceans.\n",
    "\n",
    "# Input: heights = [[1,2,2,3,5],[3,2,3,4,4],[2,4,5,3,1],[6,7,1,4,5],[5,1,1,2,4]]\n",
    "# Output: [[0,4],[1,3],[1,4],[2,2],[3,0],[3,1],[4,0]]"
   ]
  },
  {
   "cell_type": "code",
   "execution_count": null,
   "id": "db964bfc",
   "metadata": {},
   "outputs": [],
   "source": "# show the heights as matrix\n# [[1,2,2,3,5],\n#  [3,2,3,4,4],\n#  [2,4,5,3,1],\n#  [6,7,1,4,5],\n#  [5,1,1,2,4]]\n\n# show the 3d plot of the heights\nimport matplotlib.pyplot as plt\nfrom mpl_toolkits.mplot3d import Axes3D\nimport numpy as np\n\n# Show the 3d plot of the heights and the result points on the same plot with Pacific Ocean and Atlantic Ocean labels that match the direction of the heatmap plot\n\nheights = [[1,2,2,3,5],[3,2,3,4,4],[2,4,5,3,1],[6,7,1,4,5],[5,1,1,2,4]]\nresult = [[0,4],[1,3],[1,4],[2,2],[3,0],[3,1],[4,0]]\nheights = np.array(heights)\nx = np.arange(heights.shape[1])\ny = np.arange(heights.shape[0])\nx, y = np.meshgrid(x, y)\nfig = plt.figure()\nax = fig.add_subplot(111, projection='3d')\nax.invert_yaxis()  # Flip y-axis so row 0 is at top (matches heatmap)\nax.plot_surface(x, y, heights, cmap='viridis', edgecolor='k', alpha=0.7)\nfor point in result:\n    ax.scatter(point[1], point[0], heights[point[0], point[1]], color='r', s=100, edgecolors='k', marker='o')\nax.set_xlabel('X axis')\nax.set_ylabel('Y axis')\nax.set_zlabel('Height')\nax.set_title('Heights 3D Plot with Pacific-Atlantic Flow Points')\nax.text(-0.5, -0.5, 0, 'Pacific\\nOcean', color='b', fontsize=10, weight='bold')\nax.text(heights.shape[1]-0.5, heights.shape[0]-0.5, 0, 'Atlantic\\nOcean', color='r', fontsize=10, weight='bold')\n# rotate the 3d plot to make pacific ocean on top left and atlantic ocean on bottom right\nax.view_init(elev=30, azim=-60)\n\n\n\nplt.show()\n\n\n# Plot the heights as heatmap with result points\nimport matplotlib.pyplot as plt\nimport numpy as np\nheights = [[1,2,2,3,5],[3,2,3,4,4],[2,4,5,3,1],[6,7,1,4,5],[5,1,1,2,4]]\nresult = [[0,4],[1,3],[1,4],[2,2],[3,0],[3,1],[4,0]]\nheights = np.array(heights)\nplt.imshow(heights, cmap='viridis', interpolation='nearest')\nfor point in result:\n    plt.scatter(point[1], point[0], color='r', s=100, edgecolor='k')    \nplt.colorbar()\nplt.title('Heights Heatmap with Pacific-Atlantic Flow Points')\nplt.xlabel('X axis')\nplt.ylabel('Y axis')\nplt.show()"
  },
  {
   "cell_type": "code",
   "execution_count": null,
   "id": "88175fa2",
   "metadata": {},
   "outputs": [],
   "source": [
    "from typing import List\n"
   ]
  },
  {
   "cell_type": "code",
   "execution_count": null,
   "id": "16fe4879",
   "metadata": {},
   "outputs": [],
   "source": []
  }
 ],
 "metadata": {
  "kernelspec": {
   "display_name": "base",
   "language": "python",
   "name": "python3"
  },
  "language_info": {
   "codemirror_mode": {
    "name": "ipython",
    "version": 3
   },
   "file_extension": ".py",
   "mimetype": "text/x-python",
   "name": "python",
   "nbconvert_exporter": "python",
   "pygments_lexer": "ipython3",
   "version": "3.12.11"
  }
 },
 "nbformat": 4,
 "nbformat_minor": 5
}